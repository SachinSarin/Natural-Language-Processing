{
  "nbformat": 4,
  "nbformat_minor": 0,
  "metadata": {
    "colab": {
      "name": "Untitled12.ipynb",
      "provenance": [],
      "authorship_tag": "ABX9TyMJrxem0t7+1B8i5QEUhUdu"
    },
    "kernelspec": {
      "name": "python3",
      "display_name": "Python 3"
    },
    "language_info": {
      "name": "python"
    }
  },
  "cells": [
    {
      "cell_type": "code",
      "metadata": {
        "colab": {
          "base_uri": "https://localhost:8080/"
        },
        "id": "FCLpFBzrvraR",
        "outputId": "c74f205f-af4f-4e5b-fbe9-8efae28385cb"
      },
      "source": [
        "import nltk\n",
        "nltk.download('punkt')\n",
        "nltk.download('stopwords')"
      ],
      "execution_count": 20,
      "outputs": [
        {
          "output_type": "stream",
          "text": [
            "[nltk_data] Downloading package punkt to /root/nltk_data...\n",
            "[nltk_data]   Package punkt is already up-to-date!\n",
            "[nltk_data] Downloading package stopwords to /root/nltk_data...\n",
            "[nltk_data]   Unzipping corpora/stopwords.zip.\n"
          ],
          "name": "stdout"
        },
        {
          "output_type": "execute_result",
          "data": {
            "text/plain": [
              "True"
            ]
          },
          "metadata": {
            "tags": []
          },
          "execution_count": 20
        }
      ]
    },
    {
      "cell_type": "code",
      "metadata": {
        "id": "3HCRqnC1vvQn"
      },
      "source": [
        "from nltk.stem import PorterStemmer"
      ],
      "execution_count": 21,
      "outputs": []
    },
    {
      "cell_type": "code",
      "metadata": {
        "id": "aMbNhRpPwDtG"
      },
      "source": [
        "from nltk.corpus import stopwords"
      ],
      "execution_count": 22,
      "outputs": []
    },
    {
      "cell_type": "code",
      "metadata": {
        "id": "bDX3NVnQwHu4"
      },
      "source": [
        "paragraph = \"\"\"I have three visions for India. In 3000 years of our history, people from all over \n",
        "               the world have come and invaded us, captured our lands, conquered our minds. \n",
        "               From Alexander onwards, the Greeks, the Turks, the Moguls, the Portuguese, the British,\n",
        "               the French, the Dutch, all of them came and looted us, took over what was ours. \n",
        "               Yet we have not done this to any other nation. We have not conquered anyone. \n",
        "               We have not grabbed their land, their culture, \n",
        "               their history and tried to enforce our way of life on them. \n",
        "               Why? Because we respect the freedom of others.That is why my \n",
        "               first vision is that of freedom. I believe that India got its first vision of \n",
        "               this in 1857, when we started the War of Independence. It is this freedom that\n",
        "               we must protect and nurture and build on. If we are not free, no one will respect us.\n",
        "               My second vision for India’s development. For fifty years we have been a developing nation.\n",
        "               It is time we see ourselves as a developed nation. We are among the top 5 nations of the world\n",
        "               in terms of GDP. We have a 10 percent growth rate in most areas. Our poverty levels are falling.\n",
        "               Our achievements are being globally recognised today. Yet we lack the self-confidence to\n",
        "               see ourselves as a developed nation, self-reliant and self-assured. Isn’t this incorrect?\n",
        "               I have a third vision. India must stand up to the world. Because I believe that unless India \n",
        "               stands up to the world, no one will respect us. Only strength respects strength. We must be \n",
        "               strong not only as a military power but also as an economic power. Both must go hand-in-hand. \n",
        "               My good fortune was to have worked with three great minds. Dr. Vikram Sarabhai of the Dept. of \n",
        "               space, Professor Satish Dhawan, who succeeded him and Dr. Brahm Prakash, father of nuclear material.\n",
        "               I was lucky to have worked with all three of them closely and consider this the great opportunity of my life. \n",
        "               I see four milestones in my career\"\"\""
      ],
      "execution_count": 23,
      "outputs": []
    },
    {
      "cell_type": "code",
      "metadata": {
        "id": "HxtiGhZ3wq6K"
      },
      "source": [
        "sentences = nltk.sent_tokenize(paragraph)"
      ],
      "execution_count": 24,
      "outputs": []
    },
    {
      "cell_type": "code",
      "metadata": {
        "colab": {
          "base_uri": "https://localhost:8080/"
        },
        "id": "4m4KJgCPxGNF",
        "outputId": "25749067-0be9-4e33-e792-8e0a3149cc72"
      },
      "source": [
        "\n",
        "list1 = stopwords.words('english')\n",
        "print(list1)"
      ],
      "execution_count": 26,
      "outputs": [
        {
          "output_type": "stream",
          "text": [
            "['i', 'me', 'my', 'myself', 'we', 'our', 'ours', 'ourselves', 'you', \"you're\", \"you've\", \"you'll\", \"you'd\", 'your', 'yours', 'yourself', 'yourselves', 'he', 'him', 'his', 'himself', 'she', \"she's\", 'her', 'hers', 'herself', 'it', \"it's\", 'its', 'itself', 'they', 'them', 'their', 'theirs', 'themselves', 'what', 'which', 'who', 'whom', 'this', 'that', \"that'll\", 'these', 'those', 'am', 'is', 'are', 'was', 'were', 'be', 'been', 'being', 'have', 'has', 'had', 'having', 'do', 'does', 'did', 'doing', 'a', 'an', 'the', 'and', 'but', 'if', 'or', 'because', 'as', 'until', 'while', 'of', 'at', 'by', 'for', 'with', 'about', 'against', 'between', 'into', 'through', 'during', 'before', 'after', 'above', 'below', 'to', 'from', 'up', 'down', 'in', 'out', 'on', 'off', 'over', 'under', 'again', 'further', 'then', 'once', 'here', 'there', 'when', 'where', 'why', 'how', 'all', 'any', 'both', 'each', 'few', 'more', 'most', 'other', 'some', 'such', 'no', 'nor', 'not', 'only', 'own', 'same', 'so', 'than', 'too', 'very', 's', 't', 'can', 'will', 'just', 'don', \"don't\", 'should', \"should've\", 'now', 'd', 'll', 'm', 'o', 're', 've', 'y', 'ain', 'aren', \"aren't\", 'couldn', \"couldn't\", 'didn', \"didn't\", 'doesn', \"doesn't\", 'hadn', \"hadn't\", 'hasn', \"hasn't\", 'haven', \"haven't\", 'isn', \"isn't\", 'ma', 'mightn', \"mightn't\", 'mustn', \"mustn't\", 'needn', \"needn't\", 'shan', \"shan't\", 'shouldn', \"shouldn't\", 'wasn', \"wasn't\", 'weren', \"weren't\", 'won', \"won't\", 'wouldn', \"wouldn't\"]\n"
          ],
          "name": "stdout"
        }
      ]
    },
    {
      "cell_type": "code",
      "metadata": {
        "colab": {
          "base_uri": "https://localhost:8080/"
        },
        "id": "zDc9iO4Fxf4X",
        "outputId": "eb6bd767-eb8f-42bd-ef18-a542d33e635b"
      },
      "source": [
        "count = 0;\n",
        "for i in list1:\n",
        "  count = count + 1\n",
        "print(count)"
      ],
      "execution_count": 27,
      "outputs": [
        {
          "output_type": "stream",
          "text": [
            "179\n"
          ],
          "name": "stdout"
        }
      ]
    },
    {
      "cell_type": "code",
      "metadata": {
        "colab": {
          "base_uri": "https://localhost:8080/"
        },
        "id": "deW84_SWx3Bo",
        "outputId": "9c2d3d6c-bfe3-4ed0-bca3-0a97daf2387f"
      },
      "source": [
        "def word_count(str):\n",
        "  counts = dict()\n",
        "  words = str.split()\n",
        "  for word in words:\n",
        "    if word in counts:\n",
        "      counts[word] +=1\n",
        "    else:\n",
        "      counts[word] = 1\n",
        "  return counts\n",
        "print(word_count(str(list1)))"
      ],
      "execution_count": 40,
      "outputs": [
        {
          "output_type": "stream",
          "text": [
            "{\"['i',\": 1, \"'me',\": 1, \"'my',\": 1, \"'myself',\": 1, \"'we',\": 1, \"'our',\": 1, \"'ours',\": 1, \"'ourselves',\": 1, \"'you',\": 1, '\"you\\'re\",': 1, '\"you\\'ve\",': 1, '\"you\\'ll\",': 1, '\"you\\'d\",': 1, \"'your',\": 1, \"'yours',\": 1, \"'yourself',\": 1, \"'yourselves',\": 1, \"'he',\": 1, \"'him',\": 1, \"'his',\": 1, \"'himself',\": 1, \"'she',\": 1, '\"she\\'s\",': 1, \"'her',\": 1, \"'hers',\": 1, \"'herself',\": 1, \"'it',\": 1, '\"it\\'s\",': 1, \"'its',\": 1, \"'itself',\": 1, \"'they',\": 1, \"'them',\": 1, \"'their',\": 1, \"'theirs',\": 1, \"'themselves',\": 1, \"'what',\": 1, \"'which',\": 1, \"'who',\": 1, \"'whom',\": 1, \"'this',\": 1, \"'that',\": 1, '\"that\\'ll\",': 1, \"'these',\": 1, \"'those',\": 1, \"'am',\": 1, \"'is',\": 1, \"'are',\": 1, \"'was',\": 1, \"'were',\": 1, \"'be',\": 1, \"'been',\": 1, \"'being',\": 1, \"'have',\": 1, \"'has',\": 1, \"'had',\": 1, \"'having',\": 1, \"'do',\": 1, \"'does',\": 1, \"'did',\": 1, \"'doing',\": 1, \"'a',\": 1, \"'an',\": 1, \"'the',\": 1, \"'and',\": 1, \"'but',\": 1, \"'if',\": 1, \"'or',\": 1, \"'because',\": 1, \"'as',\": 1, \"'until',\": 1, \"'while',\": 1, \"'of',\": 1, \"'at',\": 1, \"'by',\": 1, \"'for',\": 1, \"'with',\": 1, \"'about',\": 1, \"'against',\": 1, \"'between',\": 1, \"'into',\": 1, \"'through',\": 1, \"'during',\": 1, \"'before',\": 1, \"'after',\": 1, \"'above',\": 1, \"'below',\": 1, \"'to',\": 1, \"'from',\": 1, \"'up',\": 1, \"'down',\": 1, \"'in',\": 1, \"'out',\": 1, \"'on',\": 1, \"'off',\": 1, \"'over',\": 1, \"'under',\": 1, \"'again',\": 1, \"'further',\": 1, \"'then',\": 1, \"'once',\": 1, \"'here',\": 1, \"'there',\": 1, \"'when',\": 1, \"'where',\": 1, \"'why',\": 1, \"'how',\": 1, \"'all',\": 1, \"'any',\": 1, \"'both',\": 1, \"'each',\": 1, \"'few',\": 1, \"'more',\": 1, \"'most',\": 1, \"'other',\": 1, \"'some',\": 1, \"'such',\": 1, \"'no',\": 1, \"'nor',\": 1, \"'not',\": 1, \"'only',\": 1, \"'own',\": 1, \"'same',\": 1, \"'so',\": 1, \"'than',\": 1, \"'too',\": 1, \"'very',\": 1, \"'s',\": 1, \"'t',\": 1, \"'can',\": 1, \"'will',\": 1, \"'just',\": 1, \"'don',\": 1, '\"don\\'t\",': 1, \"'should',\": 1, '\"should\\'ve\",': 1, \"'now',\": 1, \"'d',\": 1, \"'ll',\": 1, \"'m',\": 1, \"'o',\": 1, \"'re',\": 1, \"'ve',\": 1, \"'y',\": 1, \"'ain',\": 1, \"'aren',\": 1, '\"aren\\'t\",': 1, \"'couldn',\": 1, '\"couldn\\'t\",': 1, \"'didn',\": 1, '\"didn\\'t\",': 1, \"'doesn',\": 1, '\"doesn\\'t\",': 1, \"'hadn',\": 1, '\"hadn\\'t\",': 1, \"'hasn',\": 1, '\"hasn\\'t\",': 1, \"'haven',\": 1, '\"haven\\'t\",': 1, \"'isn',\": 1, '\"isn\\'t\",': 1, \"'ma',\": 1, \"'mightn',\": 1, '\"mightn\\'t\",': 1, \"'mustn',\": 1, '\"mustn\\'t\",': 1, \"'needn',\": 1, '\"needn\\'t\",': 1, \"'shan',\": 1, '\"shan\\'t\",': 1, \"'shouldn',\": 1, '\"shouldn\\'t\",': 1, \"'wasn',\": 1, '\"wasn\\'t\",': 1, \"'weren',\": 1, '\"weren\\'t\",': 1, \"'won',\": 1, '\"won\\'t\",': 1, \"'wouldn',\": 1, '\"wouldn\\'t\"]': 1}\n",
            "{'sachin': 4, 'sarin': 3, 'sarins': 2, 'sacin': 1, 'sasaadasdsa': 1}\n"
          ],
          "name": "stdout"
        }
      ]
    },
    {
      "cell_type": "code",
      "metadata": {
        "id": "WHxiXFtPzs3Q"
      },
      "source": [
        "stemmer = PorterStemmer()"
      ],
      "execution_count": 45,
      "outputs": []
    },
    {
      "cell_type": "code",
      "metadata": {
        "colab": {
          "base_uri": "https://localhost:8080/"
        },
        "id": "c7uTAVBuzzIP",
        "outputId": "464c88c7-cdd2-4ce1-c6a3-b8f1b9332e01"
      },
      "source": [
        "for i in range(len(sentences)):\n",
        "  words = nltk.word_tokenize(sentences[i])\n",
        "  words = [stemmer.stem(word) for word in words if word not in set(stopwords.words('english'))]\n",
        "  sentences[i] = ' '.join(words)\n",
        "  print(sentences[i])\n"
      ],
      "execution_count": 51,
      "outputs": [
        {
          "output_type": "stream",
          "text": [
            "I three vision india .\n",
            "In 3000 year histori , peopl world come invad us , captur land , conquer mind .\n",
            "from alexand onward , greek , turk , mogul , portugues , british , french , dutch , came loot us , took .\n",
            "yet done nation .\n",
            "We conquer anyon .\n",
            "We grab land , cultur , histori tri enforc way life .\n",
            "whi ?\n",
            "becaus respect freedom others.that first vision freedom .\n",
            "I believ india got first vision 1857 , start war independ .\n",
            "It freedom must protect nurtur build .\n",
            "If free , one respect us .\n",
            "My second vision india ’ develop .\n",
            "for fifti year develop nation .\n",
            "It time see develop nation .\n",
            "We among top 5 nation world term gdp .\n",
            "We 10 percent growth rate area .\n",
            "our poverti level fall .\n",
            "our achiev global recognis today .\n",
            "yet lack self-confid see develop nation , self-reli self-assur .\n",
            "isn ’ incorrect ?\n",
            "I third vision .\n",
            "india must stand world .\n",
            "becaus I believ unless india stand world , one respect us .\n",
            "onli strength respect strength .\n",
            "We must strong militari power also econom power .\n",
            "both must go hand-in-hand .\n",
            "My good fortun work three great mind .\n",
            "dr. vikram sarabhai dept .\n",
            "space , professor satish dhawan , succeed dr. brahm prakash , father nuclear materi .\n",
            "I lucki work three close consid great opportun life .\n",
            "I see four mileston career\n"
          ],
          "name": "stdout"
        }
      ]
    }
  ]
}
