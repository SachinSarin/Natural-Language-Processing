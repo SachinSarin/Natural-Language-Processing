{
  "nbformat": 4,
  "nbformat_minor": 0,
  "metadata": {
    "colab": {
      "name": "Untitled9.ipynb",
      "provenance": [],
      "authorship_tag": "ABX9TyMMrsMGvZBOxkyb6KV2+mhY"
    },
    "kernelspec": {
      "name": "python3",
      "display_name": "Python 3"
    },
    "language_info": {
      "name": "python"
    }
  },
  "cells": [
    {
      "cell_type": "code",
      "metadata": {
        "id": "6OtUayjL9t3H"
      },
      "source": [
        "import numpy as np # linear algebra\n",
        "import pandas as pd # data processing, CSV file I/O (e.g. pd.read_csv)\n",
        "import matplotlib.pyplot as plt\n",
        "import matplotlib.image as mpimg\n",
        "import tensorflow as tf\n",
        "from tensorflow import keras\n",
        "import string"
      ],
      "execution_count": null,
      "outputs": []
    },
    {
      "cell_type": "code",
      "metadata": {
        "id": "Hj89DZrK-Jpe"
      },
      "source": [
        "import numpy as np # linear algebra\n",
        "import pandas as pd # data processing, CSV file I/O (e.g. pd.read_csv)\n",
        "import matplotlib.pyplot as plt\n",
        "import matplotlib.image as mpimg\n",
        "import tensorflow as tf\n",
        "from tensorflow import keras\n",
        "import string\n",
        "\n"
      ],
      "execution_count": null,
      "outputs": []
    },
    {
      "cell_type": "code",
      "metadata": {
        "id": "et-kBERo_ptZ",
        "colab": {
          "base_uri": "https://localhost:8080/",
          "height": 131
        },
        "outputId": "08bb7a63-1e6a-493a-9900-51fb0afb16ad"
      },
      "source": [
        "#Only Selecting the Images and excluding the directories in the folder\n",
        "# images_names=fnmatch.filter(os.listdir('/kaggle/input/captcha-version-2-images/samples/'),'*.*')\n",
        "from PIL import Image\n",
        "\n",
        "text_file=open(r\"/content/sample_data/input.txt\",\"r\")\n",
        "\n",
        "details=[]\n",
        "outputs=[]\n",
        "names=[]\n",
        "for line in text_file:\n",
        "    a=line.split('#')\n",
        "    outputs.append(a[1].strip('\\n'))\n",
        "    details.append(a[0])\n",
        "\n",
        "for detail in details:\n",
        "    a=detail.split(' ')\n",
        "    names.append(a[0])\n",
        "X=[]\n",
        "\n",
        "for name in names:\n",
        "    img=Image.open(r'/content/sample_data/s01-000-00-0 (copy).png')\n",
        "    img = img.resize((784,32), Image.ANTIALIAS)\n",
        "    img=np.asarray(img)\n",
        "    img=img[:,:,0]\n",
        "    X.append(img)\n",
        "\n",
        "X=np.asarray(X)\n",
        "plt.imshow(X[42])\n",
        "plt.title(outputs[42])\n",
        "print(\"No of Images :\",X.shape[0])\n",
        "\n",
        "symbols = \" \"+string.ascii_lowercase + string.ascii_uppercase+\"0123456789.,*&!@~():`^]¢‘;|-«\"\n",
        "print(\"Characters :\",symbols)\n",
        "print(\"No of chars :\",len(symbols))\n",
        "\n",
        "# print(os.listdir('../input/linesdata/data/sentences/s01/'))\n"
      ],
      "execution_count": null,
      "outputs": [
        {
          "output_type": "stream",
          "text": [
            "No of Images : 1774\n",
            "Characters :  abcdefghijklmnopqrstuvwxyzABCDEFGHIJKLMNOPQRSTUVWXYZ0123456789.,*&!@~():`^]¢‘;|-«\n",
            "No of chars : 82\n"
          ],
          "name": "stdout"
        },
        {
          "output_type": "display_data",
          "data": {
            "image/png": "[encoded data removed]",
            "text/plain": [
              "<Figure size 432x288 with 1 Axes>"
            ]
          },
          "metadata": {
            "tags": [],
            "needs_background": "light"
          }
        }
      ]
    },
    {
      "cell_type": "code",
      "metadata": {
        "colab": {
          "base_uri": "https://localhost:8080/"
        },
        "id": "7F-9K26qGFxR",
        "outputId": "fd41e931-cb6b-412a-8eb8-0b0f19acca58"
      },
      "source": [
        "Y=np.zeros(shape=(len(outputs),98,len(symbols)))\n",
        "for example_no,name in enumerate(outputs):\n",
        "    for letter_no,letter in enumerate(name):\n",
        "        try:\n",
        "            Y[example_no][letter_no][symbols.index(letter)]=1\n",
        "        except:\n",
        "            print(letter,end=\" \")"
      ],
      "execution_count": null,
      "outputs": [
        {
          "output_type": "stream",
          "text": [
            "â € ˜ â € ˜ â € ˜ â € ˜ â € ˜ â € ˜ â € ˜ â € ˜ â € ˜ â € ˜ â € ˜ â € ˜ â € ˜ â € ˜ â € ˜ â € ˜ â € ˜ â € ˜ â € ˜ â € ˜ â € ˜ â € ˜ â € ˜ â € ˜ Â Â â € ˜ â € ˜ â € ˜ â € ˜ â € ˜ â € ˜ â € ˜ â € ˜ "
          ],
          "name": "stdout"
        }
      ]
    },
    {
      "cell_type": "code",
      "metadata": {
        "colab": {
          "base_uri": "https://localhost:8080/"
        },
        "id": "PkXEi4h1GII3",
        "outputId": "1c603649-74ed-4b3a-91f5-d0b06b7d018d"
      },
      "source": [
        "X=np.reshape(X,(X.shape[0],X.shape[1],X.shape[2],1))\n",
        "print(\"Shape of X is :\",X.shape)"
      ],
      "execution_count": null,
      "outputs": [
        {
          "output_type": "stream",
          "text": [
            "Shape of X is : (1774, 32, 784, 1)\n"
          ],
          "name": "stdout"
        }
      ]
    },
    {
      "cell_type": "code",
      "metadata": {
        "id": "wTcf_CZeGMGN"
      },
      "source": [
        "def OCRModel():\n",
        "    image=keras.layers.Input((32,784,1))\n",
        "    conv1=keras.layers.Conv2D(16,(3,3),activation='relu',padding='same')(image)\n",
        "    mp1=keras.layers.MaxPooling2D((2,2),padding='same')(conv1)\n",
        "    conv2=keras.layers.Conv2D(32,(3,3),activation='relu',padding='same')(mp1)\n",
        "    mp2=keras.layers.MaxPooling2D((2,2),padding='same')(conv2)\n",
        "    conv3=keras.layers.Conv2D(64,(3,3),activation='relu',padding='same')(mp2)\n",
        "    mp3=keras.layers.MaxPooling2D((2,2),padding='same')(conv3)\n",
        "    conv4=keras.layers.Conv2D(128,(3,3),activation='relu',padding='same')(mp3)\n",
        "    mp4=keras.layers.MaxPooling2D((2,1),padding='same')(conv4)\n",
        "    conv5=keras.layers.Conv2D(256,(3,3),activation='relu',padding='same')(mp4)\n",
        "    mp5=keras.layers.MaxPooling2D((2,1),padding='same')(conv5)\n",
        "    conv6=keras.layers.Conv2D(256,(3,3),activation='relu',padding='same')(mp5)\n",
        "    # mp6=keras.layers.MaxPooling2D((1,3),padding='same')(conv6)\n",
        "    bn=keras.layers.BatchNormalization()(conv6)\n",
        "    sq=keras.backend.squeeze(bn,axis=1)\n",
        "\n",
        "    rn1=keras.layers.Bidirectional(keras.layers.LSTM(256,return_sequences=True))(sq)\n",
        "    rn2=keras.layers.Bidirectional(keras.layers.LSTM(256,return_sequences=True))(rn1)\n",
        "\n",
        "    exd=keras.backend.expand_dims(rn2,axis=2)\n",
        "    maping=keras.layers.Conv2D(len(symbols),(2,2),activation='relu',padding='same')(exd)\n",
        "    maping=keras.backend.squeeze(maping,axis=2)\n",
        "    maping = tf.keras.layers.Softmax()(maping)\n",
        "\n",
        "    # bn = keras.layers.BatchNormalization()(conv3)\n",
        "    model=keras.Model(image,maping)\n",
        "    model.compile(loss='categorical_crossentropy', optimizer='adam')\n",
        "    \n",
        "    return model"
      ],
      "execution_count": null,
      "outputs": []
    },
    {
      "cell_type": "code",
      "metadata": {
        "colab": {
          "base_uri": "https://localhost:8080/"
        },
        "id": "ObmZyHltGPl5",
        "outputId": "68781a3d-fffb-4f0b-81e1-856f2b6a0bcf"
      },
      "source": [
        "from keras.utils.vis_utils import plot_model\n",
        "OCR=OCRModel()\n",
        "OCR.fit(X,Y,epochs=5)"
      ],
      "execution_count": null,
      "outputs": [
        {
          "output_type": "stream",
          "text": [
            "Epoch 1/5\n",
            "56/56 [==============================] - 225s 4s/step - loss: 1.6656\n",
            "Epoch 2/5\n",
            "56/56 [==============================] - 217s 4s/step - loss: 1.5874\n",
            "Epoch 3/5\n",
            "56/56 [==============================] - 219s 4s/step - loss: 1.5792\n",
            "Epoch 4/5\n",
            "56/56 [==============================] - 221s 4s/step - loss: 1.5721\n",
            "Epoch 5/5\n",
            "56/56 [==============================] - 219s 4s/step - loss: 1.5657\n"
          ],
          "name": "stdout"
        },
        {
          "output_type": "execute_result",
          "data": {
            "text/plain": [
              "<tensorflow.python.keras.callbacks.History at 0x7f83bef2f390>"
            ]
          },
          "metadata": {
            "tags": []
          },
          "execution_count": 11
        }
      ]
    }
  ]
}