{
  "nbformat": 4,
  "nbformat_minor": 0,
  "metadata": {
    "colab": {
      "name": "Classfication_of_Movie_Reviews.ipynb",
      "provenance": [],
      "authorship_tag": "ABX9TyNeFA/ptGSynMqP/bc+Zwce"
    },
    "kernelspec": {
      "name": "python3",
      "display_name": "Python 3"
    },
    "language_info": {
      "name": "python"
    }
  },
  "cells": [
    {
      "cell_type": "code",
      "metadata": {
        "id": "cJ8QzGIckXIB"
      },
      "source": [
        "import tensorflow as tf\n",
        "import tensorflow_datasets as tfds\n",
        "import tensorflow_hub as hub\n"
      ],
      "execution_count": 4,
      "outputs": []
    },
    {
      "cell_type": "code",
      "metadata": {
        "colab": {
          "base_uri": "https://localhost:8080/",
          "height": 35
        },
        "id": "hvqaJ31pzDME",
        "outputId": "2dfe2872-4014-45aa-8319-3cf69112ffad"
      },
      "source": [
        "tf.__version__"
      ],
      "execution_count": 5,
      "outputs": [
        {
          "output_type": "execute_result",
          "data": {
            "application/vnd.google.colaboratory.intrinsic+json": {
              "type": "string"
            },
            "text/plain": [
              "'2.5.0'"
            ]
          },
          "metadata": {
            "tags": []
          },
          "execution_count": 5
        }
      ]
    },
    {
      "cell_type": "code",
      "metadata": {
        "colab": {
          "base_uri": "https://localhost:8080/"
        },
        "id": "SK2f0ZROzKMG",
        "outputId": "d0667c6f-f0d8-4992-ec20-b5e79a9e8bd9"
      },
      "source": [
        "tfds.list_builders()"
      ],
      "execution_count": 6,
      "outputs": [
        {
          "output_type": "execute_result",
          "data": {
            "text/plain": [
              "['abstract_reasoning',\n",
              " 'accentdb',\n",
              " 'aeslc',\n",
              " 'aflw2k3d',\n",
              " 'ag_news_subset',\n",
              " 'ai2_arc',\n",
              " 'ai2_arc_with_ir',\n",
              " 'amazon_us_reviews',\n",
              " 'anli',\n",
              " 'arc',\n",
              " 'bair_robot_pushing_small',\n",
              " 'bccd',\n",
              " 'beans',\n",
              " 'big_patent',\n",
              " 'bigearthnet',\n",
              " 'billsum',\n",
              " 'binarized_mnist',\n",
              " 'binary_alpha_digits',\n",
              " 'blimp',\n",
              " 'bool_q',\n",
              " 'c4',\n",
              " 'caltech101',\n",
              " 'caltech_birds2010',\n",
              " 'caltech_birds2011',\n",
              " 'cars196',\n",
              " 'cassava',\n",
              " 'cats_vs_dogs',\n",
              " 'celeb_a',\n",
              " 'celeb_a_hq',\n",
              " 'cfq',\n",
              " 'chexpert',\n",
              " 'cifar10',\n",
              " 'cifar100',\n",
              " 'cifar10_1',\n",
              " 'cifar10_corrupted',\n",
              " 'citrus_leaves',\n",
              " 'cityscapes',\n",
              " 'civil_comments',\n",
              " 'clevr',\n",
              " 'clic',\n",
              " 'clinc_oos',\n",
              " 'cmaterdb',\n",
              " 'cnn_dailymail',\n",
              " 'coco',\n",
              " 'coco_captions',\n",
              " 'coil100',\n",
              " 'colorectal_histology',\n",
              " 'colorectal_histology_large',\n",
              " 'common_voice',\n",
              " 'coqa',\n",
              " 'cos_e',\n",
              " 'cosmos_qa',\n",
              " 'covid19sum',\n",
              " 'crema_d',\n",
              " 'curated_breast_imaging_ddsm',\n",
              " 'cycle_gan',\n",
              " 'deep_weeds',\n",
              " 'definite_pronoun_resolution',\n",
              " 'dementiabank',\n",
              " 'diabetic_retinopathy_detection',\n",
              " 'div2k',\n",
              " 'dmlab',\n",
              " 'downsampled_imagenet',\n",
              " 'dsprites',\n",
              " 'dtd',\n",
              " 'duke_ultrasound',\n",
              " 'emnist',\n",
              " 'eraser_multi_rc',\n",
              " 'esnli',\n",
              " 'eurosat',\n",
              " 'fashion_mnist',\n",
              " 'flic',\n",
              " 'flores',\n",
              " 'food101',\n",
              " 'forest_fires',\n",
              " 'fuss',\n",
              " 'gap',\n",
              " 'geirhos_conflict_stimuli',\n",
              " 'genomics_ood',\n",
              " 'german_credit_numeric',\n",
              " 'gigaword',\n",
              " 'glue',\n",
              " 'goemotions',\n",
              " 'gpt3',\n",
              " 'groove',\n",
              " 'gtzan',\n",
              " 'gtzan_music_speech',\n",
              " 'hellaswag',\n",
              " 'higgs',\n",
              " 'horses_or_humans',\n",
              " 'i_naturalist2017',\n",
              " 'imagenet2012',\n",
              " 'imagenet2012_corrupted',\n",
              " 'imagenet2012_real',\n",
              " 'imagenet2012_subset',\n",
              " 'imagenet_a',\n",
              " 'imagenet_r',\n",
              " 'imagenet_resized',\n",
              " 'imagenet_v2',\n",
              " 'imagenette',\n",
              " 'imagewang',\n",
              " 'imdb_reviews',\n",
              " 'irc_disentanglement',\n",
              " 'iris',\n",
              " 'kitti',\n",
              " 'kmnist',\n",
              " 'lfw',\n",
              " 'librispeech',\n",
              " 'librispeech_lm',\n",
              " 'libritts',\n",
              " 'ljspeech',\n",
              " 'lm1b',\n",
              " 'lost_and_found',\n",
              " 'lsun',\n",
              " 'malaria',\n",
              " 'math_dataset',\n",
              " 'mctaco',\n",
              " 'mnist',\n",
              " 'mnist_corrupted',\n",
              " 'movie_lens',\n",
              " 'movie_rationales',\n",
              " 'movielens',\n",
              " 'moving_mnist',\n",
              " 'multi_news',\n",
              " 'multi_nli',\n",
              " 'multi_nli_mismatch',\n",
              " 'natural_questions',\n",
              " 'natural_questions_open',\n",
              " 'newsroom',\n",
              " 'nsynth',\n",
              " 'nyu_depth_v2',\n",
              " 'omniglot',\n",
              " 'open_images_challenge2019_detection',\n",
              " 'open_images_v4',\n",
              " 'openbookqa',\n",
              " 'opinion_abstracts',\n",
              " 'opinosis',\n",
              " 'opus',\n",
              " 'oxford_flowers102',\n",
              " 'oxford_iiit_pet',\n",
              " 'para_crawl',\n",
              " 'patch_camelyon',\n",
              " 'paws_wiki',\n",
              " 'paws_x_wiki',\n",
              " 'pet_finder',\n",
              " 'pg19',\n",
              " 'places365_small',\n",
              " 'plant_leaves',\n",
              " 'plant_village',\n",
              " 'plantae_k',\n",
              " 'qa4mre',\n",
              " 'qasc',\n",
              " 'quickdraw_bitmap',\n",
              " 'radon',\n",
              " 'reddit',\n",
              " 'reddit_disentanglement',\n",
              " 'reddit_tifu',\n",
              " 'resisc45',\n",
              " 'robonet',\n",
              " 'rock_paper_scissors',\n",
              " 'rock_you',\n",
              " 'salient_span_wikipedia',\n",
              " 'samsum',\n",
              " 'savee',\n",
              " 'scan',\n",
              " 'scene_parse150',\n",
              " 'scicite',\n",
              " 'scientific_papers',\n",
              " 'sentiment140',\n",
              " 'shapes3d',\n",
              " 'smallnorb',\n",
              " 'snli',\n",
              " 'so2sat',\n",
              " 'speech_commands',\n",
              " 'spoken_digit',\n",
              " 'squad',\n",
              " 'stanford_dogs',\n",
              " 'stanford_online_products',\n",
              " 'starcraft_video',\n",
              " 'stl10',\n",
              " 'sun397',\n",
              " 'super_glue',\n",
              " 'svhn_cropped',\n",
              " 'ted_hrlr_translate',\n",
              " 'ted_multi_translate',\n",
              " 'tedlium',\n",
              " 'tf_flowers',\n",
              " 'the300w_lp',\n",
              " 'tiny_shakespeare',\n",
              " 'titanic',\n",
              " 'trec',\n",
              " 'trivia_qa',\n",
              " 'tydi_qa',\n",
              " 'uc_merced',\n",
              " 'ucf101',\n",
              " 'vctk',\n",
              " 'vgg_face2',\n",
              " 'visual_domain_decathlon',\n",
              " 'voc',\n",
              " 'voxceleb',\n",
              " 'voxforge',\n",
              " 'waymo_open_dataset',\n",
              " 'web_questions',\n",
              " 'wider_face',\n",
              " 'wiki40b',\n",
              " 'wikihow',\n",
              " 'wikipedia',\n",
              " 'wikipedia_toxicity_subtypes',\n",
              " 'wine_quality',\n",
              " 'winogrande',\n",
              " 'wmt14_translate',\n",
              " 'wmt15_translate',\n",
              " 'wmt16_translate',\n",
              " 'wmt17_translate',\n",
              " 'wmt18_translate',\n",
              " 'wmt19_translate',\n",
              " 'wmt_t2t_translate',\n",
              " 'wmt_translate',\n",
              " 'wordnet',\n",
              " 'xnli',\n",
              " 'xquad',\n",
              " 'xsum',\n",
              " 'yelp_polarity_reviews',\n",
              " 'yes_no']"
            ]
          },
          "metadata": {
            "tags": []
          },
          "execution_count": 6
        }
      ]
    },
    {
      "cell_type": "code",
      "metadata": {
        "id": "H50DDOi3zXDo"
      },
      "source": [
        "train_data   , test_data = tfds.load(name='imdb_reviews',split=(tfds.Split.TRAIN,tfds.Split.TEST),as_supervised=True)"
      ],
      "execution_count": 18,
      "outputs": []
    },
    {
      "cell_type": "code",
      "metadata": {
        "colab": {
          "base_uri": "https://localhost:8080/"
        },
        "id": "jHT-KEcZ0f82",
        "outputId": "408cbfba-9462-4319-b57c-835dbcc9c738"
      },
      "source": [
        "type(train_data)"
      ],
      "execution_count": 19,
      "outputs": [
        {
          "output_type": "execute_result",
          "data": {
            "text/plain": [
              "tensorflow.python.data.ops.dataset_ops.PrefetchDataset"
            ]
          },
          "metadata": {
            "tags": []
          },
          "execution_count": 19
        }
      ]
    },
    {
      "cell_type": "code",
      "metadata": {
        "colab": {
          "base_uri": "https://localhost:8080/"
        },
        "id": "JFPfhAk52rHF",
        "outputId": "95199d4a-8678-44e5-c2d8-addcf227d413"
      },
      "source": [
        "train_examples_batches , train_labels_batches = next(iter(train_data.batch(10)))\n",
        "print(train_examples_batches)"
      ],
      "execution_count": 24,
      "outputs": [
        {
          "output_type": "stream",
          "text": [
            "tf.Tensor(\n",
            "[b\"This was an absolutely terrible movie. Don't be lured in by Christopher Walken or Michael Ironside. Both are great actors, but this must simply be their worst role in history. Even their great acting could not redeem this movie's ridiculous storyline. This movie is an early nineties US propaganda piece. The most pathetic scenes were those when the Columbian rebels were making their cases for revolutions. Maria Conchita Alonso appeared phony, and her pseudo-love affair with Walken was nothing but a pathetic emotional plug in a movie that was devoid of any real meaning. I am disappointed that there are movies like this, ruining actor's like Christopher Walken's good name. I could barely sit through it.\"\n",
            " b'I have been known to fall asleep during films, but this is usually due to a combination of things including, really tired, being warm and comfortable on the sette and having just eaten a lot. However on this occasion I fell asleep because the film was rubbish. The plot development was constant. Constantly slow and boring. Things seemed to happen, but with no explanation of what was causing them or why. I admit, I may have missed part of the film, but i watched the majority of it and everything just seemed to happen of its own accord without any real concern for anything else. I cant recommend this film at all.'\n",
            " b'Mann photographs the Alberta Rocky Mountains in a superb fashion, and Jimmy Stewart and Walter Brennan give enjoyable performances as they always seem to do. <br /><br />But come on Hollywood - a Mountie telling the people of Dawson City, Yukon to elect themselves a marshal (yes a marshal!) and to enforce the law themselves, then gunfighters battling it out on the streets for control of the town? <br /><br />Nothing even remotely resembling that happened on the Canadian side of the border during the Klondike gold rush. Mr. Mann and company appear to have mistaken Dawson City for Deadwood, the Canadian North for the American Wild West.<br /><br />Canadian viewers be prepared for a Reefer Madness type of enjoyable howl with this ludicrous plot, or, to shake your head in disgust.'\n",
            " b'This is the kind of film for a snowy Sunday afternoon when the rest of the world can go ahead with its own business as you descend into a big arm-chair and mellow for a couple of hours. Wonderful performances from Cher and Nicolas Cage (as always) gently row the plot along. There are no rapids to cross, no dangerous waters, just a warm and witty paddle through New York life at its best. A family film in every sense and one that deserves the praise it received.'\n",
            " b'As others have mentioned, all the women that go nude in this film are mostly absolutely gorgeous. The plot very ably shows the hypocrisy of the female libido. When men are around they want to be pursued, but when no \"men\" are around, they become the pursuers of a 14 year old boy. And the boy becomes a man really fast (we should all be so lucky at this age!). He then gets up the courage to pursue his true love.'\n",
            " b\"This is a film which should be seen by anybody interested in, effected by, or suffering from an eating disorder. It is an amazingly accurate and sensitive portrayal of bulimia in a teenage girl, its causes and its symptoms. The girl is played by one of the most brilliant young actresses working in cinema today, Alison Lohman, who was later so spectacular in 'Where the Truth Lies'. I would recommend that this film be shown in all schools, as you will never see a better on this subject. Alison Lohman is absolutely outstanding, and one marvels at her ability to convey the anguish of a girl suffering from this compulsive disorder. If barometers tell us the air pressure, Alison Lohman tells us the emotional pressure with the same degree of accuracy. Her emotional range is so precise, each scene could be measured microscopically for its gradations of trauma, on a scale of rising hysteria and desperation which reaches unbearable intensity. Mare Winningham is the perfect choice to play her mother, and does so with immense sympathy and a range of emotions just as finely tuned as Lohman's. Together, they make a pair of sensitive emotional oscillators vibrating in resonance with one another. This film is really an astonishing achievement, and director Katt Shea should be proud of it. The only reason for not seeing it is if you are not interested in people. But even if you like nature films best, this is after all animal behaviour at the sharp edge. Bulimia is an extreme version of how a tormented soul can destroy her own body in a frenzy of despair. And if we don't sympathise with people suffering from the depths of despair, then we are dead inside.\"\n",
            " b'Okay, you have:<br /><br />Penelope Keith as Miss Herringbone-Tweed, B.B.E. (Backbone of England.) She\\'s killed off in the first scene - that\\'s right, folks; this show has no backbone!<br /><br />Peter O\\'Toole as Ol\\' Colonel Cricket from The First War and now the emblazered Lord of the Manor.<br /><br />Joanna Lumley as the ensweatered Lady of the Manor, 20 years younger than the colonel and 20 years past her own prime but still glamourous (Brit spelling, not mine) enough to have a toy-boy on the side. It\\'s alright, they have Col. Cricket\\'s full knowledge and consent (they guy even comes \\'round for Christmas!) Still, she\\'s considerate of the colonel enough to have said toy-boy her own age (what a gal!)<br /><br />David McCallum as said toy-boy, equally as pointlessly glamourous as his squeeze. Pilcher couldn\\'t come up with any cover for him within the story, so she gave him a hush-hush job at the Circus.<br /><br />and finally:<br /><br />Susan Hampshire as Miss Polonia Teacups, Venerable Headmistress of the Venerable Girls\\' Boarding-School, serving tea in her office with a dash of deep, poignant advice for life in the outside world just before graduation. Her best bit of advice: \"I\\'ve only been to Nancherrow (the local Stately Home of England) once. I thought it was very beautiful but, somehow, not part of the real world.\" Well, we can\\'t say they didn\\'t warn us.<br /><br />Ah, Susan - time was, your character would have been running the whole show. They don\\'t write \\'em like that any more. Our loss, not yours.<br /><br />So - with a cast and setting like this, you have the re-makings of \"Brideshead Revisited,\" right?<br /><br />Wrong! They took these 1-dimensional supporting roles because they paid so well. After all, acting is one of the oldest temp-jobs there is (YOU name another!)<br /><br />First warning sign: lots and lots of backlighting. They get around it by shooting outdoors - \"hey, it\\'s just the sunlight!\"<br /><br />Second warning sign: Leading Lady cries a lot. When not crying, her eyes are moist. That\\'s the law of romance novels: Leading Lady is \"dewy-eyed.\"<br /><br />Henceforth, Leading Lady shall be known as L.L.<br /><br />Third warning sign: L.L. actually has stars in her eyes when she\\'s in love. Still, I\\'ll give Emily Mortimer an award just for having to act with that spotlight in her eyes (I wonder . did they use contacts?)<br /><br />And lastly, fourth warning sign: no on-screen female character is \"Mrs.\" She\\'s either \"Miss\" or \"Lady.\"<br /><br />When all was said and done, I still couldn\\'t tell you who was pursuing whom and why. I couldn\\'t even tell you what was said and done.<br /><br />To sum up: they all live through World War II without anything happening to them at all.<br /><br />OK, at the end, L.L. finds she\\'s lost her parents to the Japanese prison camps and baby sis comes home catatonic. Meanwhile (there\\'s always a \"meanwhile,\") some young guy L.L. had a crush on (when, I don\\'t know) comes home from some wartime tough spot and is found living on the street by Lady of the Manor (must be some street if SHE\\'s going to find him there.) Both war casualties are whisked away to recover at Nancherrow (SOMEBODY has to be \"whisked away\" SOMEWHERE in these romance stories!)<br /><br />Great drama.'\n",
            " b'The film is based on a genuine 1950s novel.<br /><br />Journalist Colin McInnes wrote a set of three \"London novels\": \"Absolute Beginners\", \"City of Spades\" and \"Mr Love and Justice\". I have read all three. The first two are excellent. The last, perhaps an experiment that did not come off. But McInnes\\'s work is highly acclaimed; and rightly so. This musical is the novelist\\'s ultimate nightmare - to see the fruits of one\\'s mind being turned into a glitzy, badly-acted, soporific one-dimensional apology of a film that says it captures the spirit of 1950s London, and does nothing of the sort.<br /><br />Thank goodness Colin McInnes wasn\\'t alive to witness it.'\n",
            " b'I really love the sexy action and sci-fi films of the sixties and its because of the actress\\'s that appeared in them. They found the sexiest women to be in these films and it didn\\'t matter if they could act (Remember \"Candy\"?). The reason I was disappointed by this film was because it wasn\\'t nostalgic enough. The story here has a European sci-fi film called \"Dragonfly\" being made and the director is fired. So the producers decide to let a young aspiring filmmaker (Jeremy Davies) to complete the picture. They\\'re is one real beautiful woman in the film who plays Dragonfly but she\\'s barely in it. Film is written and directed by Roman Coppola who uses some of his fathers exploits from his early days and puts it into the script. I wish the film could have been an homage to those early films. They could have lots of cameos by actors who appeared in them. There is one actor in this film who was popular from the sixties and its John Phillip Law (Barbarella). Gerard Depardieu, Giancarlo Giannini and Dean Stockwell appear as well. I guess I\\'m going to have to continue waiting for a director to make a good homage to the films of the sixties. If any are reading this, \"Make it as sexy as you can\"! I\\'ll be waiting!'\n",
            " b'Sure, this one isn\\'t really a blockbuster, nor does it target such a position. \"Dieter\" is the first name of a quite popular German musician, who is either loved or hated for his kind of acting and thats exactly what this movie is about. It is based on the autobiography \"Dieter Bohlen\" wrote a few years ago but isn\\'t meant to be accurate on that. The movie is filled with some sexual offensive content (at least for American standard) which is either amusing (not for the other \"actors\" of course) or dumb - it depends on your individual kind of humor or on you being a \"Bohlen\"-Fan or not. Technically speaking there isn\\'t much to criticize. Speaking of me I find this movie to be an OK-movie.'], shape=(10,), dtype=string)\n"
          ],
          "name": "stdout"
        }
      ]
    },
    {
      "cell_type": "code",
      "metadata": {
        "colab": {
          "base_uri": "https://localhost:8080/"
        },
        "id": "fIlF9dWO3giP",
        "outputId": "d6074ece-a5a0-4389-9888-e799db1f39f0"
      },
      "source": [
        "print(train_labels_batches)"
      ],
      "execution_count": 25,
      "outputs": [
        {
          "output_type": "stream",
          "text": [
            "tf.Tensor([0 0 0 1 1 1 0 0 0 0], shape=(10,), dtype=int64)\n"
          ],
          "name": "stdout"
        }
      ]
    },
    {
      "cell_type": "code",
      "metadata": {
        "id": "S_0vp_xf3nZH"
      },
      "source": [
        "#do word_to vec conversion for a number\n",
        "pre_trained_model = \"https://tfhub.dev/google/tf2-preview/gnews-swivel-20dim-with-oov/1\""
      ],
      "execution_count": 26,
      "outputs": []
    },
    {
      "cell_type": "code",
      "metadata": {
        "id": "ZvU1nqwC6CgK"
      },
      "source": [
        "hub_layer = hub.KerasLayer(pre_trained_model,input_shape=[] , dtype = tf.string,trainable=True)"
      ],
      "execution_count": 29,
      "outputs": []
    },
    {
      "cell_type": "code",
      "metadata": {
        "colab": {
          "base_uri": "https://localhost:8080/"
        },
        "id": "CvvqRcl96ne1",
        "outputId": "c755b6e5-5469-4a9d-b058-7d1f6306059c"
      },
      "source": [
        "hub_layer(train_examples_batches[:2])"
      ],
      "execution_count": 31,
      "outputs": [
        {
          "output_type": "execute_result",
          "data": {
            "text/plain": [
              "<tf.Tensor: shape=(2, 20), dtype=float32, numpy=\n",
              "array([[ 1.668895  , -3.918618  ,  3.7993348 , -1.4097565 , -3.3214598 ,\n",
              "        -0.9996616 , -2.0233727 ,  1.2953283 ,  5.0233593 , -1.0990871 ,\n",
              "        -2.0879953 , -1.2672297 , -0.18820252, -0.07738297, -2.9172704 ,\n",
              "         1.7943126 ,  1.2375495 , -1.5559573 , -2.4811747 , -0.7813505 ],\n",
              "       [ 1.7287169 , -2.4736629 ,  3.3280423 ,  0.9174705 , -4.062213  ,\n",
              "        -4.791508  , -2.7125058 ,  1.2155541 ,  3.7063696 , -0.95357007,\n",
              "        -1.855471  ,  1.2775491 , -0.07673654,  0.6835056 , -4.822123  ,\n",
              "         2.6815715 ,  4.479097  , -2.360208  , -3.2802453 , -1.5463475 ]],\n",
              "      dtype=float32)>"
            ]
          },
          "metadata": {
            "tags": []
          },
          "execution_count": 31
        }
      ]
    },
    {
      "cell_type": "code",
      "metadata": {
        "colab": {
          "base_uri": "https://localhost:8080/"
        },
        "id": "j8fJiMdI65GL",
        "outputId": "da4e207e-d2c1-498a-f7e9-44e7bff4825c"
      },
      "source": [
        "#actual neural network\n",
        "model = tf.keras.Sequential()\n",
        "model.add(hub_layer)\n",
        "model.add(tf.keras.layers.Dense(16,activation=\"relu\"))\n",
        "model.add(tf.keras.layers.Dense(1,activation=\"sigmoid\"))\n",
        "model.summary()"
      ],
      "execution_count": 36,
      "outputs": [
        {
          "output_type": "stream",
          "text": [
            "Model: \"sequential_2\"\n",
            "_________________________________________________________________\n",
            "Layer (type)                 Output Shape              Param #   \n",
            "=================================================================\n",
            "keras_layer (KerasLayer)     (None, 20)                389380    \n",
            "_________________________________________________________________\n",
            "dense_2 (Dense)              (None, 16)                336       \n",
            "_________________________________________________________________\n",
            "dense_3 (Dense)              (None, 1)                 17        \n",
            "=================================================================\n",
            "Total params: 389,733\n",
            "Trainable params: 389,733\n",
            "Non-trainable params: 0\n",
            "_________________________________________________________________\n"
          ],
          "name": "stdout"
        }
      ]
    },
    {
      "cell_type": "code",
      "metadata": {
        "id": "mHxWlF_k8E8c"
      },
      "source": [
        "model.compile(optimizer='adam',loss='binary_crossentropy',metrics=['accuracy'])"
      ],
      "execution_count": 37,
      "outputs": []
    },
    {
      "cell_type": "code",
      "metadata": {
        "colab": {
          "base_uri": "https://localhost:8080/"
        },
        "id": "0o88jA-t8R41",
        "outputId": "ba763375-c00d-4f88-821c-885cad00e956"
      },
      "source": [
        "model.fit(train_data.shuffle(10000).batch(512),epochs=100,verbose=1)"
      ],
      "execution_count": null,
      "outputs": [
        {
          "output_type": "stream",
          "text": [
            "Epoch 1/100\n",
            "49/49 [==============================] - 4s 61ms/step - loss: 0.1409 - accuracy: 0.9522\n",
            "Epoch 2/100\n",
            "49/49 [==============================] - 3s 59ms/step - loss: 0.1338 - accuracy: 0.9555\n",
            "Epoch 3/100\n",
            "49/49 [==============================] - 3s 59ms/step - loss: 0.1265 - accuracy: 0.9600\n",
            "Epoch 4/100\n",
            "49/49 [==============================] - 4s 61ms/step - loss: 0.1204 - accuracy: 0.9623\n",
            "Epoch 5/100\n",
            "49/49 [==============================] - 4s 60ms/step - loss: 0.1143 - accuracy: 0.9652\n",
            "Epoch 6/100\n",
            "49/49 [==============================] - 4s 61ms/step - loss: 0.1083 - accuracy: 0.9671\n",
            "Epoch 7/100\n",
            "49/49 [==============================] - 3s 59ms/step - loss: 0.1018 - accuracy: 0.9702\n",
            "Epoch 8/100\n",
            "49/49 [==============================] - 4s 61ms/step - loss: 0.0969 - accuracy: 0.9721\n",
            "Epoch 9/100\n",
            "49/49 [==============================] - 4s 61ms/step - loss: 0.0918 - accuracy: 0.9746\n",
            "Epoch 10/100\n",
            "49/49 [==============================] - 4s 60ms/step - loss: 0.0872 - accuracy: 0.9765\n",
            "Epoch 11/100\n",
            "49/49 [==============================] - 4s 60ms/step - loss: 0.0821 - accuracy: 0.9785\n",
            "Epoch 12/100\n",
            "49/49 [==============================] - 4s 61ms/step - loss: 0.0775 - accuracy: 0.9802\n",
            "Epoch 13/100\n",
            "49/49 [==============================] - 4s 61ms/step - loss: 0.0735 - accuracy: 0.9822\n",
            "Epoch 14/100\n",
            "49/49 [==============================] - 4s 61ms/step - loss: 0.0696 - accuracy: 0.9830\n",
            "Epoch 15/100\n",
            "49/49 [==============================] - 4s 61ms/step - loss: 0.0651 - accuracy: 0.9850\n",
            "Epoch 16/100\n",
            "49/49 [==============================] - 4s 60ms/step - loss: 0.0615 - accuracy: 0.9863\n",
            "Epoch 17/100\n",
            "49/49 [==============================] - 3s 60ms/step - loss: 0.0580 - accuracy: 0.9870\n",
            "Epoch 18/100\n",
            "49/49 [==============================] - 4s 61ms/step - loss: 0.0544 - accuracy: 0.9888\n",
            "Epoch 19/100\n",
            "49/49 [==============================] - 4s 60ms/step - loss: 0.0518 - accuracy: 0.9898\n",
            "Epoch 20/100\n",
            "49/49 [==============================] - 4s 60ms/step - loss: 0.0484 - accuracy: 0.9907\n",
            "Epoch 21/100\n",
            "49/49 [==============================] - 3s 59ms/step - loss: 0.0453 - accuracy: 0.9918\n",
            "Epoch 22/100\n",
            "49/49 [==============================] - 3s 59ms/step - loss: 0.0426 - accuracy: 0.9928\n",
            "Epoch 23/100\n",
            "49/49 [==============================] - 3s 59ms/step - loss: 0.0401 - accuracy: 0.9933\n",
            "Epoch 24/100\n",
            "49/49 [==============================] - 3s 60ms/step - loss: 0.0380 - accuracy: 0.9943\n",
            "Epoch 25/100\n",
            "49/49 [==============================] - 4s 61ms/step - loss: 0.0354 - accuracy: 0.9948\n",
            "Epoch 26/100\n",
            "49/49 [==============================] - 4s 62ms/step - loss: 0.0337 - accuracy: 0.9951\n",
            "Epoch 27/100\n",
            "49/49 [==============================] - 4s 60ms/step - loss: 0.0311 - accuracy: 0.9956\n",
            "Epoch 28/100\n",
            "49/49 [==============================] - 3s 60ms/step - loss: 0.0290 - accuracy: 0.9964\n",
            "Epoch 29/100\n",
            "49/49 [==============================] - 4s 60ms/step - loss: 0.0272 - accuracy: 0.9966\n",
            "Epoch 30/100\n",
            "49/49 [==============================] - 4s 60ms/step - loss: 0.0256 - accuracy: 0.9969\n",
            "Epoch 31/100\n",
            "49/49 [==============================] - 4s 61ms/step - loss: 0.0236 - accuracy: 0.9976\n",
            "Epoch 32/100\n",
            "49/49 [==============================] - 4s 61ms/step - loss: 0.0221 - accuracy: 0.9978\n",
            "Epoch 33/100\n",
            "49/49 [==============================] - 4s 60ms/step - loss: 0.0207 - accuracy: 0.9983\n",
            "Epoch 34/100\n",
            "49/49 [==============================] - 3s 60ms/step - loss: 0.0193 - accuracy: 0.9985\n",
            "Epoch 35/100\n",
            "49/49 [==============================] - 4s 62ms/step - loss: 0.0180 - accuracy: 0.9986\n",
            "Epoch 36/100\n",
            "49/49 [==============================] - 4s 62ms/step - loss: 0.0168 - accuracy: 0.9987\n",
            "Epoch 37/100\n",
            "49/49 [==============================] - 4s 64ms/step - loss: 0.0155 - accuracy: 0.9990\n",
            "Epoch 38/100\n",
            "49/49 [==============================] - 4s 62ms/step - loss: 0.0144 - accuracy: 0.9991\n",
            "Epoch 39/100\n",
            "49/49 [==============================] - 3s 60ms/step - loss: 0.0134 - accuracy: 0.9993\n",
            "Epoch 40/100\n",
            "49/49 [==============================] - 4s 64ms/step - loss: 0.0125 - accuracy: 0.9992\n",
            "Epoch 41/100\n",
            "49/49 [==============================] - 4s 63ms/step - loss: 0.0115 - accuracy: 0.9994\n",
            "Epoch 42/100\n",
            "49/49 [==============================] - 4s 60ms/step - loss: 0.0109 - accuracy: 0.9996\n",
            "Epoch 43/100\n",
            "49/49 [==============================] - 4s 64ms/step - loss: 0.0100 - accuracy: 0.9996\n",
            "Epoch 44/100\n",
            "49/49 [==============================] - 4s 60ms/step - loss: 0.0092 - accuracy: 0.9997\n",
            "Epoch 45/100\n",
            "49/49 [==============================] - 4s 61ms/step - loss: 0.0087 - accuracy: 0.9998\n",
            "Epoch 46/100\n",
            "49/49 [==============================] - 4s 62ms/step - loss: 0.0080 - accuracy: 0.9998\n",
            "Epoch 47/100\n",
            "49/49 [==============================] - 4s 61ms/step - loss: 0.0076 - accuracy: 0.9998\n",
            "Epoch 48/100\n",
            "49/49 [==============================] - 4s 64ms/step - loss: 0.0072 - accuracy: 0.9999\n",
            "Epoch 49/100\n",
            "49/49 [==============================] - 4s 62ms/step - loss: 0.0066 - accuracy: 0.9999\n",
            "Epoch 50/100\n",
            "49/49 [==============================] - 4s 63ms/step - loss: 0.0061 - accuracy: 0.9999\n",
            "Epoch 51/100\n",
            "49/49 [==============================] - 4s 64ms/step - loss: 0.0057 - accuracy: 0.9999\n",
            "Epoch 52/100\n",
            "49/49 [==============================] - 4s 61ms/step - loss: 0.0053 - accuracy: 1.0000\n",
            "Epoch 53/100\n",
            "49/49 [==============================] - 4s 62ms/step - loss: 0.0050 - accuracy: 1.0000\n",
            "Epoch 54/100\n",
            "49/49 [==============================] - 4s 62ms/step - loss: 0.0046 - accuracy: 1.0000\n",
            "Epoch 55/100\n",
            "49/49 [==============================] - 4s 64ms/step - loss: 0.0044 - accuracy: 1.0000\n",
            "Epoch 56/100\n",
            "49/49 [==============================] - 4s 60ms/step - loss: 0.0041 - accuracy: 1.0000\n",
            "Epoch 57/100\n",
            "49/49 [==============================] - 4s 63ms/step - loss: 0.0038 - accuracy: 1.0000\n",
            "Epoch 58/100\n",
            "49/49 [==============================] - 4s 63ms/step - loss: 0.0036 - accuracy: 1.0000\n",
            "Epoch 59/100\n",
            "49/49 [==============================] - 4s 62ms/step - loss: 0.0033 - accuracy: 1.0000\n",
            "Epoch 60/100\n",
            "49/49 [==============================] - 4s 63ms/step - loss: 0.0031 - accuracy: 1.0000\n",
            "Epoch 61/100\n",
            "49/49 [==============================] - 4s 63ms/step - loss: 0.0029 - accuracy: 1.0000\n",
            "Epoch 62/100\n",
            "49/49 [==============================] - 4s 66ms/step - loss: 0.0027 - accuracy: 1.0000\n",
            "Epoch 63/100\n",
            "49/49 [==============================] - 4s 62ms/step - loss: 0.0026 - accuracy: 1.0000\n",
            "Epoch 64/100\n",
            "49/49 [==============================] - 4s 62ms/step - loss: 0.0025 - accuracy: 1.0000\n",
            "Epoch 65/100\n",
            "49/49 [==============================] - 4s 61ms/step - loss: 0.0023 - accuracy: 1.0000\n",
            "Epoch 66/100\n",
            "49/49 [==============================] - 4s 61ms/step - loss: 0.0022 - accuracy: 1.0000\n",
            "Epoch 67/100\n",
            "49/49 [==============================] - 4s 61ms/step - loss: 0.0020 - accuracy: 1.0000\n",
            "Epoch 68/100\n",
            "49/49 [==============================] - 3s 59ms/step - loss: 0.0019 - accuracy: 1.0000\n",
            "Epoch 69/100\n",
            "49/49 [==============================] - 4s 62ms/step - loss: 0.0018 - accuracy: 1.0000\n",
            "Epoch 70/100\n",
            "49/49 [==============================] - 4s 61ms/step - loss: 0.0017 - accuracy: 1.0000\n",
            "Epoch 71/100\n",
            "49/49 [==============================] - 4s 59ms/step - loss: 0.0016 - accuracy: 1.0000\n",
            "Epoch 72/100\n",
            "49/49 [==============================] - 3s 59ms/step - loss: 0.0016 - accuracy: 1.0000\n",
            "Epoch 73/100\n",
            "49/49 [==============================] - 3s 59ms/step - loss: 0.0015 - accuracy: 1.0000\n"
          ],
          "name": "stdout"
        }
      ]
    },
    {
      "cell_type": "code",
      "metadata": {
        "colab": {
          "base_uri": "https://localhost:8080/"
        },
        "id": "1lR9HLs39ik9",
        "outputId": "7f49826d-1be0-43c8-c60b-329721cd7ece"
      },
      "source": [
        "model.predict([\"this is the worst movie that i have ever seen\"])"
      ],
      "execution_count": 41,
      "outputs": [
        {
          "output_type": "execute_result",
          "data": {
            "text/plain": [
              "array([[0.05232865]], dtype=float32)"
            ]
          },
          "metadata": {
            "tags": []
          },
          "execution_count": 41
        }
      ]
    },
    {
      "cell_type": "code",
      "metadata": {
        "colab": {
          "base_uri": "https://localhost:8080/"
        },
        "id": "qhAi8Ah79vwg",
        "outputId": "5c38e5dd-da07-4b57-ee3f-6415a4a3cab3"
      },
      "source": [
        "model.predict([\" the movie is so awesome\"])"
      ],
      "execution_count": 45,
      "outputs": [
        {
          "output_type": "execute_result",
          "data": {
            "text/plain": [
              "array([[0.9528271]], dtype=float32)"
            ]
          },
          "metadata": {
            "tags": []
          },
          "execution_count": 45
        }
      ]
    }
  ]
}