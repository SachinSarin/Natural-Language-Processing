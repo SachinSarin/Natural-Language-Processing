{
  "nbformat": 4,
  "nbformat_minor": 0,
  "metadata": {
    "colab": {
      "name": "Word_net.ipynb",
      "provenance": [],
      "collapsed_sections": []
    },
    "kernelspec": {
      "name": "python3",
      "display_name": "Python 3"
    },
    "language_info": {
      "name": "python"
    }
  },
  "cells": [
    {
      "cell_type": "code",
      "metadata": {
        "colab": {
          "base_uri": "https://localhost:8080/"
        },
        "id": "itSwBmoyaeFs",
        "outputId": "b2d465a7-14dd-4bf2-ed74-6e2ec120e6a3"
      },
      "source": [
        "import nltk #importing the nltk library\n",
        "nltk.download('wordnet') #downloading the wordnet package\n",
        "from nltk.corpus import wordnet\n",
        "syn = wordnet.synsets('acknowledgment')[0]\n",
        "#checking the word in wordnet database\n",
        "print(\"synset name : \",syn.name() )\n",
        "\n",
        "#checking the hypernyms\n",
        "print('synset abstrat term :' , syn.hypernyms())\n",
        "\n",
        "syn1 = wordnet.synsets('doing')[0]\n",
        "print(syn1)"
      ],
      "execution_count": 7,
      "outputs": [
        {
          "output_type": "stream",
          "text": [
            "[nltk_data] Downloading package wordnet to /root/nltk_data...\n",
            "[nltk_data]   Package wordnet is already up-to-date!\n",
            "synset name :  recognition.n.01\n",
            "synset abstrat term : [Synset('acceptance.n.03')]\n",
            "Synset('make.v.01')\n"
          ],
          "name": "stdout"
        }
      ]
    },
    {
      "cell_type": "code",
      "metadata": {
        "colab": {
          "base_uri": "https://localhost:8080/"
        },
        "id": "Ln_xr66sa8zw",
        "outputId": "e8136bc4-476d-40a2-c6ca-fa003012aa9d"
      },
      "source": [
        "#Wu-palmer in wordnet \n",
        "#finding similarities between words\n",
        "from nltk.corpus import wordnet\n",
        "#defining two synset of one word each\n",
        "syn1 = wordnet.synsets('hello')[0]\n",
        "syn2 = wordnet.synsets('greeting')[0]\n",
        "print(\"hello name: \" , syn1.name())\n",
        "print(\"selling name: \" , syn2.name())\n",
        "#function to check the similarities between synsets\n",
        "syn1.wup_similarity(syn2)"
      ],
      "execution_count": 13,
      "outputs": [
        {
          "output_type": "stream",
          "text": [
            "hello name:  hello.n.01\n",
            "selling name:  greeting.n.01\n"
          ],
          "name": "stdout"
        },
        {
          "output_type": "execute_result",
          "data": {
            "text/plain": [
              "0.9230769230769231"
            ]
          },
          "metadata": {
            "tags": []
          },
          "execution_count": 13
        }
      ]
    }
  ]
}
