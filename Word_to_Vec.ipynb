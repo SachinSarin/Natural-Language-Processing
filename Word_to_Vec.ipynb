{
  "nbformat": 4,
  "nbformat_minor": 0,
  "metadata": {
    "colab": {
      "name": "Untitled17.ipynb",
      "provenance": [],
      "authorship_tag": "ABX9TyOwwZOimZKBrmMfwf3pYW2+"
    },
    "kernelspec": {
      "name": "python3",
      "display_name": "Python 3"
    },
    "language_info": {
      "name": "python"
    }
  },
  "cells": [
    {
      "cell_type": "code",
      "metadata": {
        "colab": {
          "base_uri": "https://localhost:8080/"
        },
        "id": "ecATqfsP2ZRd",
        "outputId": "30e38d9b-e866-4fe1-a3df-2ee434d734ad"
      },
      "source": [
        "import nltk\n",
        "nltk.download('stopwords')"
      ],
      "execution_count": 23,
      "outputs": [
        {
          "output_type": "stream",
          "text": [
            "[nltk_data] Downloading package stopwords to /root/nltk_data...\n",
            "[nltk_data]   Package stopwords is already up-to-date!\n"
          ],
          "name": "stdout"
        },
        {
          "output_type": "execute_result",
          "data": {
            "text/plain": [
              "True"
            ]
          },
          "metadata": {
            "tags": []
          },
          "execution_count": 23
        }
      ]
    },
    {
      "cell_type": "code",
      "metadata": {
        "id": "uC2KrMvE2bjn"
      },
      "source": [
        "from gensim.models import Word2Vec\n",
        "from nltk.corpus import stopwords"
      ],
      "execution_count": 24,
      "outputs": []
    },
    {
      "cell_type": "code",
      "metadata": {
        "id": "RmJTERDP2nMC"
      },
      "source": [
        "import re"
      ],
      "execution_count": 25,
      "outputs": []
    },
    {
      "cell_type": "code",
      "metadata": {
        "id": "JZMV3RxV2tT4"
      },
      "source": [
        "paragraph = \"\"\"There are so many species of animals in the world. The entire animal world may be \n",
        "classified into five types. They are amphibians, reptiles, mammals, birds, and insects. \n",
        "The animals that live both on land and in water have moist skin and no scales on body are called amphibians.\"\"\""
      ],
      "execution_count": 26,
      "outputs": []
    },
    {
      "cell_type": "code",
      "metadata": {
        "id": "Q52nrs1n3SCe"
      },
      "source": [
        "text = re.sub(r'\\[[0-9]*\\]',' ',paragraph)\n",
        "text = re.sub(r'\\s+',' ',text)\n",
        "text = text.lower()\n",
        "text = re.sub(r'\\d',' ',text)\n",
        "text = re.sub(r'\\s+',' ',text)"
      ],
      "execution_count": 27,
      "outputs": []
    },
    {
      "cell_type": "code",
      "metadata": {
        "colab": {
          "base_uri": "https://localhost:8080/"
        },
        "id": "hFDF9CE_26yM",
        "outputId": "48e2a17c-12a4-4b62-ac83-c3ff861b82bd"
      },
      "source": [
        "nltk.download('punkt')\n",
        "sentences = nltk.sent_tokenize(text)"
      ],
      "execution_count": 28,
      "outputs": [
        {
          "output_type": "stream",
          "text": [
            "[nltk_data] Downloading package punkt to /root/nltk_data...\n",
            "[nltk_data]   Package punkt is already up-to-date!\n"
          ],
          "name": "stdout"
        }
      ]
    },
    {
      "cell_type": "code",
      "metadata": {
        "id": "zc8GwllA3qw3"
      },
      "source": [
        "sentences = [nltk.word_tokenize(sentence) for sentence in sentences]"
      ],
      "execution_count": 29,
      "outputs": []
    },
    {
      "cell_type": "code",
      "metadata": {
        "id": "F1gQtTrx38gv"
      },
      "source": [
        "for i in range(len(sentences)):\n",
        "    sentences[i] = [word for word in sentences[i] if word not in stopwords.words('english')]\n",
        "    \n",
        "    \n",
        "# Training the Word2Vec model\n",
        "model = Word2Vec(sentences, min_count=1)\n",
        "\n",
        "\n",
        "words = model.wv.vocab\n",
        "\n",
        "# Finding Word Vectors\n",
        "vector = model.wv['birds']\n",
        "\n",
        "# Most similar words\n",
        "similar = model.wv.most_similar('birds')\n"
      ],
      "execution_count": 30,
      "outputs": []
    },
    {
      "cell_type": "code",
      "metadata": {
        "colab": {
          "base_uri": "https://localhost:8080/"
        },
        "id": "eYVbiTbT5PbV",
        "outputId": "b3a9f100-f649-4b60-dc89-abcf3b028f57"
      },
      "source": [
        "print(vector)\n",
        "print(similar)"
      ],
      "execution_count": 32,
      "outputs": [
        {
          "output_type": "stream",
          "text": [
            "[-8.1072777e-04  2.0462717e-03  1.6683869e-05 -4.2520738e-03\n",
            " -3.3853292e-03  3.3105102e-03 -3.2770012e-03  3.5957743e-03\n",
            "  1.6495336e-03 -2.0868983e-03 -3.7843050e-03 -4.0217531e-03\n",
            "  3.6574428e-03 -9.3635829e-04  4.7982419e-03 -3.7782483e-03\n",
            " -1.7791899e-03 -4.4656405e-03  3.6479626e-03 -2.5002417e-04\n",
            "  2.3679920e-03  4.6971757e-03 -4.6142722e-03 -7.1306282e-04\n",
            " -4.5129452e-03 -4.4992724e-03  2.1758566e-03  3.5399604e-03\n",
            "  3.5290997e-03  4.5334031e-03  5.5663491e-04 -1.1284518e-03\n",
            "  1.4400103e-03 -6.9022691e-04 -3.8173718e-03 -4.7246679e-03\n",
            " -3.8685927e-03 -2.1441130e-03 -2.5709746e-03  3.9951415e-03\n",
            " -3.8318275e-03 -4.1066660e-03 -3.0612695e-04  3.3815736e-03\n",
            "  1.1526668e-03 -2.7317554e-03  1.7459366e-03 -3.4043835e-03\n",
            "  2.9065521e-03  2.6729361e-03  4.3828171e-03 -2.9522139e-03\n",
            " -4.9931705e-03 -3.6081297e-03 -2.0683035e-03  4.4357604e-03\n",
            " -4.6126810e-03  4.9108844e-03  2.2203173e-03 -1.6094642e-03\n",
            "  4.6759113e-03 -2.7610338e-03  3.5430044e-03  1.2334927e-03\n",
            " -8.2111621e-04 -2.3284026e-04 -7.6641276e-04 -1.9139589e-03\n",
            " -2.0787353e-03 -3.3604125e-03 -1.6346743e-03 -2.0767360e-03\n",
            "  3.7171689e-03  3.7192574e-04  1.3217103e-03 -3.1767730e-03\n",
            "  4.1158996e-03  4.0326351e-03  8.7310449e-04 -2.0686586e-03\n",
            " -2.1659744e-03 -6.4306642e-04 -4.1972795e-03 -9.6819235e-04\n",
            " -4.6234992e-03  1.2160730e-04 -2.6136572e-03  2.9186513e-03\n",
            " -2.0840974e-03 -4.8588593e-03 -8.1198232e-04 -2.4141166e-03\n",
            "  4.0729740e-03  1.6713776e-03 -2.2994158e-04  3.2226823e-03\n",
            " -4.8070680e-03 -4.8360298e-03  1.4495194e-03 -2.8605775e-03]\n",
            "[('world', 0.19040238857269287), ('skin', 0.17641498148441315), ('entire', 0.15892620384693146), ('classified', 0.1572098731994629), ('reptiles', 0.10696256160736084), ('water', 0.09044533967971802), ('insects', 0.0763351172208786), ('species', 0.07559511065483093), ('animals', 0.07332678139209747), (',', 0.047424282878637314)]\n"
          ],
          "name": "stdout"
        }
      ]
    }
  ]
}